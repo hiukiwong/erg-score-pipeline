{
 "cells": [
  {
   "cell_type": "code",
   "execution_count": null,
   "metadata": {},
   "outputs": [],
   "source": [
    "import pandas as pd\n",
    "# import numpy as np\n",
    "# from datetime import time, datetime\n",
    "# from matplotlib import pyplot as plt\n",
    "# from matplotlib.ticker import MultipleLocator\n",
    "# import matplotlib.ticker as ticker\n",
    "# from matplotlib.dates import DateFormatter\n",
    "import os"
   ]
  },
  {
   "cell_type": "code",
   "execution_count": null,
   "metadata": {},
   "outputs": [],
   "source": [
    "workout_type = 'A'"
   ]
  },
  {
   "cell_type": "code",
   "execution_count": null,
   "metadata": {},
   "outputs": [],
   "source": [
    "FILENAME = 'raw_data/CSVs/erg scores - 2023-03-15.csv'\n",
    "a = pd.read_csv(FILENAME)"
   ]
  },
  {
   "cell_type": "code",
   "execution_count": null,
   "metadata": {},
   "outputs": [],
   "source": [
    "def split_to_seconds(duration_string: str):\n",
    "    return float(duration_string.split(':')[0])*60+float(duration_string.split(':')[1])\n",
    "\n",
    "a[\"split_in_s\"] = a[\"/500m\"].apply(lambda x: split_to_seconds(x))"
   ]
  },
  {
   "cell_type": "code",
   "execution_count": null,
   "metadata": {},
   "outputs": [],
   "source": [
    "# from datetime import datetime, timedelta\n",
    "\n",
    "# def convert_str_duration_to_time_delta(duration_string: str):\n",
    "#     dt = datetime.strptime(duration_string, \"%M:%S.%f\")\n",
    "#     return timedelta(minutes=dt.minute, seconds=dt.second, microseconds=dt.microsecond)\n",
    "\n",
    "# a[\"/500m_duration\"] = a[\"/500m\"].apply(lambda x: convert_str_duration_to_time_delta(x))"
   ]
  },
  {
   "cell_type": "code",
   "execution_count": null,
   "metadata": {},
   "outputs": [],
   "source": [
    "a['cutoff_minute'] = a['time'].str.split(':').str[0].astype(int)"
   ]
  },
  {
   "cell_type": "code",
   "execution_count": null,
   "metadata": {},
   "outputs": [],
   "source": [
    "a['workout_date'] = FILENAME[-14:-4]\n",
    "a['workout_type'] = workout_type\n",
    "a['workout_date'] = pd.to_datetime(a['workout_date']).dt.tz_localize('Europe/London')"
   ]
  },
  {
   "cell_type": "code",
   "execution_count": null,
   "metadata": {},
   "outputs": [],
   "source": [
    "import pandera as pa\n",
    "from pandera import Column, DataFrameSchema, Check"
   ]
  },
  {
   "cell_type": "code",
   "execution_count": null,
   "metadata": {},
   "outputs": [],
   "source": [
    "allowed_workout_types = ['A', 'B']\n",
    "\n",
    "schema = pa.DataFrameSchema({\n",
    "    'workout_date': pa.Column(pa.engines.pandas_engine.DateTime(tz='Europe/London')),\n",
    "    'workout_type': pa.Column(pa.Category, checks = pa.Check.isin(allowed_workout_types), coerce=True, regex = True),\n",
    "    'cutoff_minute': pa.Column(int, coerce=True),\n",
    "    'split_in_s': pa.Column(float, coerce=True),\n",
    "    'meter': pa.Column(int, coerce=True)\n",
    "})"
   ]
  },
  {
   "cell_type": "code",
   "execution_count": null,
   "metadata": {},
   "outputs": [],
   "source": [
    "schema.validate(a)"
   ]
  },
  {
   "cell_type": "code",
   "execution_count": null,
   "metadata": {},
   "outputs": [],
   "source": [
    "OUTPUT_FILEPATH = f'processed_data/workout_{workout_type}.csv'\n",
    "if os.path.isfile(OUTPUT_FILEPATH):\n",
    "    output = pd.read_csv(OUTPUT_FILEPATH)\n",
    "    output = pd.concat([output, a], ignore_index=True)\n",
    "    output.to_csv(OUTPUT_FILEPATH, index=False)\n",
    "else:\n",
    "    a.to_csv(OUTPUT_FILEPATH, index=False)"
   ]
  },
  {
   "cell_type": "code",
   "execution_count": 5,
   "metadata": {},
   "outputs": [
    {
     "name": "stdout",
     "output_type": "stream",
     "text": [
      "processed-data/\n",
      "raw-data/\n",
      "raw-data/manual-input/\n",
      "raw-data/manual-input/2023-01-17.csv\n",
      "raw-data/manual-input/2023-03-01.csv\n",
      "raw-data/manual-input/2023-03-15.csv\n"
     ]
    }
   ],
   "source": [
    "\n",
    "# date='2023-03-01'\n",
    "\n",
    "import os\n",
    "\n",
    "import boto3\n",
    "import pandas as pd\n",
    "\n",
    "boto3.setup_default_session(profile_name='dev-profile')\n",
    "client = boto3.client(\"s3\")\n",
    "\n",
    "\n",
    "for key in client.list_objects(Bucket=bucket)['Contents']:\n",
    "    print(key['Key'])\n",
    "\n",
    "# result = client.get_bucket_policy(Bucket=bucket)\n",
    "# print(result['Policy'])\n"
   ]
  },
  {
   "cell_type": "code",
   "execution_count": 9,
   "metadata": {},
   "outputs": [],
   "source": [
    "import io"
   ]
  },
  {
   "cell_type": "code",
   "execution_count": 10,
   "metadata": {},
   "outputs": [],
   "source": [
    "bucket = 'ergscorepipeline'\n",
    "key = 'raw-data/manual-input/2023-03-15.csv'\n",
    "\n",
    "obj = client.get_object(Bucket=bucket, Key=key)\n",
    "df = pd.read_csv(io.BytesIO(obj['Body'].read()))"
   ]
  },
  {
   "cell_type": "code",
   "execution_count": 11,
   "metadata": {},
   "outputs": [
    {
     "data": {
      "text/html": [
       "<div>\n",
       "<style scoped>\n",
       "    .dataframe tbody tr th:only-of-type {\n",
       "        vertical-align: middle;\n",
       "    }\n",
       "\n",
       "    .dataframe tbody tr th {\n",
       "        vertical-align: top;\n",
       "    }\n",
       "\n",
       "    .dataframe thead th {\n",
       "        text-align: right;\n",
       "    }\n",
       "</style>\n",
       "<table border=\"1\" class=\"dataframe\">\n",
       "  <thead>\n",
       "    <tr style=\"text-align: right;\">\n",
       "      <th></th>\n",
       "      <th>Unnamed: 0</th>\n",
       "      <th>cutoff_minute</th>\n",
       "      <th>metres</th>\n",
       "      <th>/500m</th>\n",
       "      <th>s/m</th>\n",
       "    </tr>\n",
       "  </thead>\n",
       "  <tbody>\n",
       "    <tr>\n",
       "      <th>0</th>\n",
       "      <td>0</td>\n",
       "      <td>6</td>\n",
       "      <td>1209</td>\n",
       "      <td>2:28.8</td>\n",
       "      <td>20</td>\n",
       "    </tr>\n",
       "    <tr>\n",
       "      <th>1</th>\n",
       "      <td>1</td>\n",
       "      <td>12</td>\n",
       "      <td>1218</td>\n",
       "      <td>2:27.7</td>\n",
       "      <td>20</td>\n",
       "    </tr>\n",
       "    <tr>\n",
       "      <th>2</th>\n",
       "      <td>2</td>\n",
       "      <td>18</td>\n",
       "      <td>1227</td>\n",
       "      <td>2:26.6</td>\n",
       "      <td>20</td>\n",
       "    </tr>\n",
       "    <tr>\n",
       "      <th>3</th>\n",
       "      <td>3</td>\n",
       "      <td>24</td>\n",
       "      <td>1236</td>\n",
       "      <td>2:25.6</td>\n",
       "      <td>20</td>\n",
       "    </tr>\n",
       "    <tr>\n",
       "      <th>4</th>\n",
       "      <td>4</td>\n",
       "      <td>30</td>\n",
       "      <td>1252</td>\n",
       "      <td>2:23.7</td>\n",
       "      <td>20</td>\n",
       "    </tr>\n",
       "  </tbody>\n",
       "</table>\n",
       "</div>"
      ],
      "text/plain": [
       "   Unnamed: 0  cutoff_minute  metres   /500m  s/m\n",
       "0           0              6    1209  2:28.8   20\n",
       "1           1             12    1218  2:27.7   20\n",
       "2           2             18    1227  2:26.6   20\n",
       "3           3             24    1236  2:25.6   20\n",
       "4           4             30    1252  2:23.7   20"
      ]
     },
     "execution_count": 11,
     "metadata": {},
     "output_type": "execute_result"
    }
   ],
   "source": [
    "df"
   ]
  },
  {
   "cell_type": "code",
   "execution_count": null,
   "metadata": {},
   "outputs": [],
   "source": []
  },
  {
   "cell_type": "code",
   "execution_count": null,
   "metadata": {},
   "outputs": [],
   "source": []
  },
  {
   "cell_type": "code",
   "execution_count": null,
   "metadata": {},
   "outputs": [],
   "source": []
  }
 ],
 "metadata": {
  "kernelspec": {
   "display_name": "erg-score-pipeline-ygjxMsi6-py3.10",
   "language": "python",
   "name": "python3"
  },
  "language_info": {
   "codemirror_mode": {
    "name": "ipython",
    "version": 3
   },
   "file_extension": ".py",
   "mimetype": "text/x-python",
   "name": "python",
   "nbconvert_exporter": "python",
   "pygments_lexer": "ipython3",
   "version": "3.10.6"
  },
  "orig_nbformat": 4
 },
 "nbformat": 4,
 "nbformat_minor": 2
}
