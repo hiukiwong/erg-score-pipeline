{
 "cells": [
  {
   "cell_type": "code",
   "execution_count": null,
   "metadata": {},
   "outputs": [],
   "source": [
    "import pandas as pd\n",
    "# import numpy as np\n",
    "# from datetime import time, datetime\n",
    "# from matplotlib import pyplot as plt\n",
    "# from matplotlib.ticker import MultipleLocator\n",
    "# import matplotlib.ticker as ticker\n",
    "# from matplotlib.dates import DateFormatter\n",
    "import os"
   ]
  },
  {
   "cell_type": "code",
   "execution_count": null,
   "metadata": {},
   "outputs": [],
   "source": [
    "workout_type = 'A'"
   ]
  },
  {
   "cell_type": "code",
   "execution_count": null,
   "metadata": {},
   "outputs": [],
   "source": [
    "FILENAME = 'raw_data/CSVs/erg scores - 2023-03-15.csv'\n",
    "a = pd.read_csv(FILENAME)"
   ]
  },
  {
   "cell_type": "code",
   "execution_count": null,
   "metadata": {},
   "outputs": [],
   "source": [
    "def split_to_seconds(duration_string: str):\n",
    "    return float(duration_string.split(':')[0])*60+float(duration_string.split(':')[1])\n",
    "\n",
    "a[\"split_in_s\"] = a[\"/500m\"].apply(lambda x: split_to_seconds(x))"
   ]
  },
  {
   "cell_type": "code",
   "execution_count": null,
   "metadata": {},
   "outputs": [],
   "source": [
    "# from datetime import datetime, timedelta\n",
    "\n",
    "# def convert_str_duration_to_time_delta(duration_string: str):\n",
    "#     dt = datetime.strptime(duration_string, \"%M:%S.%f\")\n",
    "#     return timedelta(minutes=dt.minute, seconds=dt.second, microseconds=dt.microsecond)\n",
    "\n",
    "# a[\"/500m_duration\"] = a[\"/500m\"].apply(lambda x: convert_str_duration_to_time_delta(x))"
   ]
  },
  {
   "cell_type": "code",
   "execution_count": null,
   "metadata": {},
   "outputs": [],
   "source": [
    "a['cutoff_minute'] = a['time'].str.split(':').str[0].astype(int)"
   ]
  },
  {
   "cell_type": "code",
   "execution_count": null,
   "metadata": {},
   "outputs": [],
   "source": [
    "a['workout_date'] = FILENAME[-14:-4]\n",
    "a['workout_type'] = workout_type\n",
    "a['workout_date'] = pd.to_datetime(a['workout_date']).dt.tz_localize('Europe/London')"
   ]
  },
  {
   "cell_type": "code",
   "execution_count": 8,
   "metadata": {},
   "outputs": [],
   "source": [
    "import pandera as pa\n",
    "from pandera import Column, DataFrameSchema, Check"
   ]
  },
  {
   "cell_type": "code",
   "execution_count": null,
   "metadata": {},
   "outputs": [],
   "source": [
    "allowed_workout_types = ['A', 'B']\n",
    "\n",
    "schema = pa.DataFrameSchema({\n",
    "    'workout_date': pa.Column(pa.engines.pandas_engine.DateTime(tz='Europe/London')),\n",
    "    'workout_type': pa.Column(pa.Category, checks = pa.Check.isin(allowed_workout_types), coerce=True, regex = True),\n",
    "    'cutoff_minute': pa.Column(int, coerce=True),\n",
    "    'split_in_s': pa.Column(float, coerce=True),\n",
    "    'meter': pa.Column(int, coerce=True)\n",
    "})"
   ]
  },
  {
   "cell_type": "code",
   "execution_count": null,
   "metadata": {},
   "outputs": [],
   "source": [
    "OUTPUT_FILEPATH = f'processed_data/workout_{workout_type}.csv'\n",
    "if os.path.isfile(OUTPUT_FILEPATH):\n",
    "    output = pd.read_csv(OUTPUT_FILEPATH)\n",
    "    output = pd.concat([output, a], ignore_index=True)\n",
    "    output.to_csv(OUTPUT_FILEPATH, index=False)\n",
    "else:\n",
    "    a.to_csv(OUTPUT_FILEPATH, index=False)"
   ]
  },
  {
   "cell_type": "code",
   "execution_count": 2,
   "metadata": {},
   "outputs": [
    {
     "name": "stdout",
     "output_type": "stream",
     "text": [
      "raw-data/\n",
      "raw-data/manual-input/\n",
      "raw-data/manual-input/2022-03-28.csv\n",
      "raw-data/manual-input/2022-04-18.csv\n",
      "raw-data/manual-input/2022-05-30.csv\n",
      "raw-data/manual-input/2022-06-13.csv\n",
      "raw-data/manual-input/2022-06-27.csv\n",
      "raw-data/manual-input/2022-07-18.csv\n",
      "raw-data/manual-input/2022-07-25.csv\n",
      "raw-data/manual-input/2022-09-06.csv\n",
      "raw-data/manual-input/2022-10-17.csv\n",
      "raw-data/manual-input/2022-10-24.csv\n",
      "raw-data/manual-input/2022-10-31.csv\n",
      "raw-data/manual-input/2022-11-07.csv\n",
      "raw-data/manual-input/2022-11-15.csv\n",
      "raw-data/manual-input/2022-11-21.csv\n",
      "raw-data/manual-input/2022-11-29.csv\n"
     ]
    }
   ],
   "source": [
    "\n",
    "# date='2023-03-01'\n",
    "\n",
    "import os\n",
    "\n",
    "import boto3\n",
    "import pandas as pd\n",
    "\n",
    "boto3.setup_default_session(profile_name='dev-profile')\n",
    "client = boto3.client(\"s3\")\n",
    "bucket = 'ergscorepipeline'\n",
    "\n",
    "for key in client.list_objects(Bucket=bucket)['Contents']:\n",
    "    print(key['Key'])\n",
    "\n",
    "# result = client.get_bucket_policy(Bucket=bucket)\n",
    "# print(result['Policy'])\n"
   ]
  },
  {
   "cell_type": "code",
   "execution_count": 3,
   "metadata": {},
   "outputs": [],
   "source": [
    "import io"
   ]
  },
  {
   "cell_type": "code",
   "execution_count": 4,
   "metadata": {},
   "outputs": [],
   "source": [
    "bucket = 'ergscorepipeline'\n",
    "key = 'raw-data/manual-input/2022-03-28.csv'\n",
    "\n",
    "obj = client.get_object(Bucket=bucket, Key=key)\n",
    "df = pd.read_csv(io.BytesIO(obj['Body'].read()))"
   ]
  },
  {
   "cell_type": "code",
   "execution_count": 5,
   "metadata": {},
   "outputs": [
    {
     "data": {
      "text/html": [
       "<div>\n",
       "<style scoped>\n",
       "    .dataframe tbody tr th:only-of-type {\n",
       "        vertical-align: middle;\n",
       "    }\n",
       "\n",
       "    .dataframe tbody tr th {\n",
       "        vertical-align: top;\n",
       "    }\n",
       "\n",
       "    .dataframe thead th {\n",
       "        text-align: right;\n",
       "    }\n",
       "</style>\n",
       "<table border=\"1\" class=\"dataframe\">\n",
       "  <thead>\n",
       "    <tr style=\"text-align: right;\">\n",
       "      <th></th>\n",
       "      <th>cutoff_minute</th>\n",
       "      <th>metres</th>\n",
       "      <th>/500m</th>\n",
       "      <th>s/m</th>\n",
       "    </tr>\n",
       "  </thead>\n",
       "  <tbody>\n",
       "    <tr>\n",
       "      <th>0</th>\n",
       "      <td>6</td>\n",
       "      <td>1223</td>\n",
       "      <td>2:27.1</td>\n",
       "      <td>20</td>\n",
       "    </tr>\n",
       "    <tr>\n",
       "      <th>1</th>\n",
       "      <td>12</td>\n",
       "      <td>1224</td>\n",
       "      <td>2:27.0</td>\n",
       "      <td>20</td>\n",
       "    </tr>\n",
       "    <tr>\n",
       "      <th>2</th>\n",
       "      <td>18</td>\n",
       "      <td>1221</td>\n",
       "      <td>2:27.4</td>\n",
       "      <td>20</td>\n",
       "    </tr>\n",
       "    <tr>\n",
       "      <th>3</th>\n",
       "      <td>24</td>\n",
       "      <td>1228</td>\n",
       "      <td>2:26.5</td>\n",
       "      <td>20</td>\n",
       "    </tr>\n",
       "    <tr>\n",
       "      <th>4</th>\n",
       "      <td>30</td>\n",
       "      <td>1245</td>\n",
       "      <td>2:24.5</td>\n",
       "      <td>20</td>\n",
       "    </tr>\n",
       "  </tbody>\n",
       "</table>\n",
       "</div>"
      ],
      "text/plain": [
       "   cutoff_minute  metres   /500m  s/m\n",
       "0              6    1223  2:27.1   20\n",
       "1             12    1224  2:27.0   20\n",
       "2             18    1221  2:27.4   20\n",
       "3             24    1228  2:26.5   20\n",
       "4             30    1245  2:24.5   20"
      ]
     },
     "execution_count": 5,
     "metadata": {},
     "output_type": "execute_result"
    }
   ],
   "source": [
    "df"
   ]
  },
  {
   "cell_type": "code",
   "execution_count": 9,
   "metadata": {},
   "outputs": [],
   "source": [
    "cli_input_schema = pa.DataFrameSchema({\n",
    "    'cutoff_minute': pa.Column(int, coerce=True),\n",
    "    'metres': pa.Column(\n",
    "        int, Check(lambda x: 1000 <= x <= 2000, element_wise=True,\n",
    "                   error=\"range checker [1000, 2000]\")),\n",
    "    's/m': pa.Column(\n",
    "        int, Check(lambda x: 18 <= x <= 23, element_wise=True,\n",
    "                   error=\"range checker [18, 23]\")),\n",
    "    '/500m': pa.Column(str, Check.str_matches(\"\\d\\:[0-5]\\d\\.\\d\"))\n",
    "})"
   ]
  },
  {
   "cell_type": "code",
   "execution_count": 10,
   "metadata": {},
   "outputs": [
    {
     "data": {
      "text/html": [
       "<div>\n",
       "<style scoped>\n",
       "    .dataframe tbody tr th:only-of-type {\n",
       "        vertical-align: middle;\n",
       "    }\n",
       "\n",
       "    .dataframe tbody tr th {\n",
       "        vertical-align: top;\n",
       "    }\n",
       "\n",
       "    .dataframe thead th {\n",
       "        text-align: right;\n",
       "    }\n",
       "</style>\n",
       "<table border=\"1\" class=\"dataframe\">\n",
       "  <thead>\n",
       "    <tr style=\"text-align: right;\">\n",
       "      <th></th>\n",
       "      <th>cutoff_minute</th>\n",
       "      <th>metres</th>\n",
       "      <th>/500m</th>\n",
       "      <th>s/m</th>\n",
       "    </tr>\n",
       "  </thead>\n",
       "  <tbody>\n",
       "    <tr>\n",
       "      <th>0</th>\n",
       "      <td>6</td>\n",
       "      <td>1223</td>\n",
       "      <td>2:27.1</td>\n",
       "      <td>20</td>\n",
       "    </tr>\n",
       "    <tr>\n",
       "      <th>1</th>\n",
       "      <td>12</td>\n",
       "      <td>1224</td>\n",
       "      <td>2:27.0</td>\n",
       "      <td>20</td>\n",
       "    </tr>\n",
       "    <tr>\n",
       "      <th>2</th>\n",
       "      <td>18</td>\n",
       "      <td>1221</td>\n",
       "      <td>2:27.4</td>\n",
       "      <td>20</td>\n",
       "    </tr>\n",
       "    <tr>\n",
       "      <th>3</th>\n",
       "      <td>24</td>\n",
       "      <td>1228</td>\n",
       "      <td>2:26.5</td>\n",
       "      <td>20</td>\n",
       "    </tr>\n",
       "    <tr>\n",
       "      <th>4</th>\n",
       "      <td>30</td>\n",
       "      <td>1245</td>\n",
       "      <td>2:24.5</td>\n",
       "      <td>20</td>\n",
       "    </tr>\n",
       "  </tbody>\n",
       "</table>\n",
       "</div>"
      ],
      "text/plain": [
       "   cutoff_minute  metres   /500m  s/m\n",
       "0              6    1223  2:27.1   20\n",
       "1             12    1224  2:27.0   20\n",
       "2             18    1221  2:27.4   20\n",
       "3             24    1228  2:26.5   20\n",
       "4             30    1245  2:24.5   20"
      ]
     },
     "execution_count": 10,
     "metadata": {},
     "output_type": "execute_result"
    }
   ],
   "source": [
    "cli_input_schema.validate(df)"
   ]
  },
  {
   "cell_type": "code",
   "execution_count": 13,
   "metadata": {},
   "outputs": [
    {
     "data": {
      "text/html": [
       "<div>\n",
       "<style scoped>\n",
       "    .dataframe tbody tr th:only-of-type {\n",
       "        vertical-align: middle;\n",
       "    }\n",
       "\n",
       "    .dataframe tbody tr th {\n",
       "        vertical-align: top;\n",
       "    }\n",
       "\n",
       "    .dataframe thead th {\n",
       "        text-align: right;\n",
       "    }\n",
       "</style>\n",
       "<table border=\"1\" class=\"dataframe\">\n",
       "  <thead>\n",
       "    <tr style=\"text-align: right;\">\n",
       "      <th></th>\n",
       "      <th>cutoff_minute</th>\n",
       "      <th>metres</th>\n",
       "      <th>/500m</th>\n",
       "      <th>s/m</th>\n",
       "      <th>split_in_s</th>\n",
       "      <th>workout_date</th>\n",
       "    </tr>\n",
       "  </thead>\n",
       "  <tbody>\n",
       "    <tr>\n",
       "      <th>0</th>\n",
       "      <td>6</td>\n",
       "      <td>1223</td>\n",
       "      <td>2:27.1</td>\n",
       "      <td>20</td>\n",
       "      <td>147.1</td>\n",
       "      <td>2022-03-28 00:00:00+01:00</td>\n",
       "    </tr>\n",
       "    <tr>\n",
       "      <th>1</th>\n",
       "      <td>12</td>\n",
       "      <td>1224</td>\n",
       "      <td>2:27.0</td>\n",
       "      <td>20</td>\n",
       "      <td>147.0</td>\n",
       "      <td>2022-03-28 00:00:00+01:00</td>\n",
       "    </tr>\n",
       "    <tr>\n",
       "      <th>2</th>\n",
       "      <td>18</td>\n",
       "      <td>1221</td>\n",
       "      <td>2:27.4</td>\n",
       "      <td>20</td>\n",
       "      <td>147.4</td>\n",
       "      <td>2022-03-28 00:00:00+01:00</td>\n",
       "    </tr>\n",
       "    <tr>\n",
       "      <th>3</th>\n",
       "      <td>24</td>\n",
       "      <td>1228</td>\n",
       "      <td>2:26.5</td>\n",
       "      <td>20</td>\n",
       "      <td>146.5</td>\n",
       "      <td>2022-03-28 00:00:00+01:00</td>\n",
       "    </tr>\n",
       "    <tr>\n",
       "      <th>4</th>\n",
       "      <td>30</td>\n",
       "      <td>1245</td>\n",
       "      <td>2:24.5</td>\n",
       "      <td>20</td>\n",
       "      <td>144.5</td>\n",
       "      <td>2022-03-28 00:00:00+01:00</td>\n",
       "    </tr>\n",
       "  </tbody>\n",
       "</table>\n",
       "</div>"
      ],
      "text/plain": [
       "   cutoff_minute  metres   /500m  s/m  split_in_s              workout_date\n",
       "0              6    1223  2:27.1   20       147.1 2022-03-28 00:00:00+01:00\n",
       "1             12    1224  2:27.0   20       147.0 2022-03-28 00:00:00+01:00\n",
       "2             18    1221  2:27.4   20       147.4 2022-03-28 00:00:00+01:00\n",
       "3             24    1228  2:26.5   20       146.5 2022-03-28 00:00:00+01:00\n",
       "4             30    1245  2:24.5   20       144.5 2022-03-28 00:00:00+01:00"
      ]
     },
     "execution_count": 13,
     "metadata": {},
     "output_type": "execute_result"
    }
   ],
   "source": [
    "bucket = 'ergscorepipeline'\n",
    "key = 'raw-data/manual-input/2022-03-28.csv'\n",
    "date = '2022-03-28'\n",
    "def split_to_seconds(duration_string: str):\n",
    "    return float(duration_string.split(':')[0])*60+float(duration_string.split(':')[1])\n",
    "def process(bucket, key, date):\n",
    "    obj = client.get_object(Bucket=bucket, Key=key)\n",
    "    erg_scores_df = pd.read_csv(io.BytesIO(obj['Body'].read()))\n",
    "    erg_scores_df[\"split_in_s\"] = erg_scores_df[\"/500m\"].apply(lambda x: split_to_seconds(x))\n",
    "    erg_scores_df['workout_date'] = pd.to_datetime(date).tz_localize('Europe/London')\n",
    "    return erg_scores_df\n",
    "\n",
    "process(bucket,key,date)"
   ]
  },
  {
   "cell_type": "code",
   "execution_count": 14,
   "metadata": {},
   "outputs": [
    {
     "data": {
      "text/html": [
       "<div>\n",
       "<style scoped>\n",
       "    .dataframe tbody tr th:only-of-type {\n",
       "        vertical-align: middle;\n",
       "    }\n",
       "\n",
       "    .dataframe tbody tr th {\n",
       "        vertical-align: top;\n",
       "    }\n",
       "\n",
       "    .dataframe thead th {\n",
       "        text-align: right;\n",
       "    }\n",
       "</style>\n",
       "<table border=\"1\" class=\"dataframe\">\n",
       "  <thead>\n",
       "    <tr style=\"text-align: right;\">\n",
       "      <th></th>\n",
       "      <th>cutoff_minute</th>\n",
       "      <th>metres</th>\n",
       "      <th>/500m</th>\n",
       "      <th>s/m</th>\n",
       "      <th>split_in_s</th>\n",
       "      <th>workout_date</th>\n",
       "    </tr>\n",
       "  </thead>\n",
       "  <tbody>\n",
       "    <tr>\n",
       "      <th>0</th>\n",
       "      <td>6</td>\n",
       "      <td>1223</td>\n",
       "      <td>2:27.1</td>\n",
       "      <td>20</td>\n",
       "      <td>147.1</td>\n",
       "      <td>2022-03-28 00:00:00+01:00</td>\n",
       "    </tr>\n",
       "    <tr>\n",
       "      <th>1</th>\n",
       "      <td>12</td>\n",
       "      <td>1224</td>\n",
       "      <td>2:27.0</td>\n",
       "      <td>20</td>\n",
       "      <td>147.0</td>\n",
       "      <td>2022-03-28 00:00:00+01:00</td>\n",
       "    </tr>\n",
       "    <tr>\n",
       "      <th>2</th>\n",
       "      <td>18</td>\n",
       "      <td>1221</td>\n",
       "      <td>2:27.4</td>\n",
       "      <td>20</td>\n",
       "      <td>147.4</td>\n",
       "      <td>2022-03-28 00:00:00+01:00</td>\n",
       "    </tr>\n",
       "    <tr>\n",
       "      <th>3</th>\n",
       "      <td>24</td>\n",
       "      <td>1228</td>\n",
       "      <td>2:26.5</td>\n",
       "      <td>20</td>\n",
       "      <td>146.5</td>\n",
       "      <td>2022-03-28 00:00:00+01:00</td>\n",
       "    </tr>\n",
       "    <tr>\n",
       "      <th>4</th>\n",
       "      <td>30</td>\n",
       "      <td>1245</td>\n",
       "      <td>2:24.5</td>\n",
       "      <td>20</td>\n",
       "      <td>144.5</td>\n",
       "      <td>2022-03-28 00:00:00+01:00</td>\n",
       "    </tr>\n",
       "  </tbody>\n",
       "</table>\n",
       "</div>"
      ],
      "text/plain": [
       "   cutoff_minute  metres   /500m  s/m  split_in_s              workout_date\n",
       "0              6    1223  2:27.1   20       147.1 2022-03-28 00:00:00+01:00\n",
       "1             12    1224  2:27.0   20       147.0 2022-03-28 00:00:00+01:00\n",
       "2             18    1221  2:27.4   20       147.4 2022-03-28 00:00:00+01:00\n",
       "3             24    1228  2:26.5   20       146.5 2022-03-28 00:00:00+01:00\n",
       "4             30    1245  2:24.5   20       144.5 2022-03-28 00:00:00+01:00"
      ]
     },
     "execution_count": 14,
     "metadata": {},
     "output_type": "execute_result"
    }
   ],
   "source": [
    "processed_schema = pa.DataFrameSchema({\n",
    "    'workout_date': pa.Column(pa.engines.pandas_engine.DateTime(tz='Europe/London')),\n",
    "    'cutoff_minute': pa.Column(int, coerce=True),\n",
    "    'split_in_s': pa.Column(float, coerce=True),\n",
    "})\n",
    "\n",
    "processed_schema.validate(process(bucket,key,date))"
   ]
  },
  {
   "cell_type": "code",
   "execution_count": null,
   "metadata": {},
   "outputs": [],
   "source": []
  }
 ],
 "metadata": {
  "kernelspec": {
   "display_name": "erg-score-pipeline-ygjxMsi6-py3.10",
   "language": "python",
   "name": "python3"
  },
  "language_info": {
   "codemirror_mode": {
    "name": "ipython",
    "version": 3
   },
   "file_extension": ".py",
   "mimetype": "text/x-python",
   "name": "python",
   "nbconvert_exporter": "python",
   "pygments_lexer": "ipython3",
   "version": "3.10.6"
  },
  "orig_nbformat": 4
 },
 "nbformat": 4,
 "nbformat_minor": 2
}
