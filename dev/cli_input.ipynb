{
 "cells": [
  {
   "cell_type": "code",
   "execution_count": 1,
   "metadata": {},
   "outputs": [],
   "source": [
    "date = input('Enter the date of the workout in YYYY-MM-DD: ')"
   ]
  },
  {
   "cell_type": "code",
   "execution_count": 2,
   "metadata": {},
   "outputs": [],
   "source": [
    "x = [int(x) for x in input(\"Enter the duration of the workout in minutes, and the number of segments the workout has been dvided into: \").split(\",\")]"
   ]
  },
  {
   "cell_type": "code",
   "execution_count": 3,
   "metadata": {},
   "outputs": [],
   "source": [
    "duration = x[0]\n",
    "segments = x[1]\n",
    "segment_lenth = int(x[0]/x[1])"
   ]
  },
  {
   "cell_type": "code",
   "execution_count": 4,
   "metadata": {},
   "outputs": [],
   "source": [
    "erg_scores = []\n",
    "segment_counter = 1\n",
    "while segment_counter <= segments:\n",
    "    x, y, z = input(f\"Enter the metres rowed, split, and the stroke rate for segment {segment_counter}: \").split(',')\n",
    "    erg_scores.append((segment_lenth*segment_counter,x,y,z))\n",
    "    segment_counter +=1"
   ]
  },
  {
   "cell_type": "code",
   "execution_count": 6,
   "metadata": {},
   "outputs": [],
   "source": [
    "import pandas as pd"
   ]
  },
  {
   "cell_type": "code",
   "execution_count": 7,
   "metadata": {},
   "outputs": [],
   "source": [
    "erg_scores_df = pd.DataFrame(erg_scores, columns =['cutoff_minute', 'metres', '/500m', 's/m'])"
   ]
  },
  {
   "cell_type": "code",
   "execution_count": 8,
   "metadata": {},
   "outputs": [],
   "source": [
    "# import os\n",
    "# import csv\n",
    "# import pathlib\n",
    "\n",
    "# path = Path('../raw_data/CSVs/')\n",
    "# fpath = os.path.join(path, f'{date}.csv')\n",
    "\n",
    "# with open(fpath, 'w', newline='') as f:\n",
    "#     writer = csv.writer(f)\n",
    "#     writer.writerows(erg_scores)"
   ]
  },
  {
   "cell_type": "code",
   "execution_count": 14,
   "metadata": {},
   "outputs": [],
   "source": [
    "import boto3\n",
    "boto3.setup_default_session(profile_name='dev-profile')\n",
    "client = boto3.client(\"s3\")"
   ]
  },
  {
   "cell_type": "code",
   "execution_count": 15,
   "metadata": {},
   "outputs": [],
   "source": [
    "from io import StringIO\n",
    "\n",
    "\n",
    "bucket = 'ergscorepipeline'  # already created on S3\n",
    "csv_buffer = StringIO()\n",
    "erg_scores_df.to_csv(csv_buffer)\n",
    "\n",
    "# client.put_object(bucket, f\"raw-data/manual-input/{date}.csv\").put(Body=csv_buffer.getvalue())\n"
   ]
  },
  {
   "cell_type": "code",
   "execution_count": 17,
   "metadata": {},
   "outputs": [
    {
     "name": "stdout",
     "output_type": "stream",
     "text": [
      "Erg score from 2023-03-15 has been saved to S3.\n"
     ]
    }
   ],
   "source": [
    "client.put_object(\n",
    "        Bucket=bucket, Key=f\"raw-data/manual-input/{date}.csv\", Body=csv_buffer.getvalue()\n",
    "    )\n",
    "print(f\"Erg score from {date} has been saved to S3.\")"
   ]
  },
  {
   "cell_type": "code",
   "execution_count": null,
   "metadata": {},
   "outputs": [],
   "source": [
    "\n",
    "# client.upload_file(fpath, \"ergscorepipeline\", f\"raw-data/manual-input/{date}.csv\")"
   ]
  },
  {
   "cell_type": "code",
   "execution_count": null,
   "metadata": {},
   "outputs": [],
   "source": []
  }
 ],
 "metadata": {
  "kernelspec": {
   "display_name": "erg-score-pipeline-ygjxMsi6-py3.10",
   "language": "python",
   "name": "python3"
  },
  "language_info": {
   "codemirror_mode": {
    "name": "ipython",
    "version": 3
   },
   "file_extension": ".py",
   "mimetype": "text/x-python",
   "name": "python",
   "nbconvert_exporter": "python",
   "pygments_lexer": "ipython3",
   "version": "3.9.13"
  },
  "orig_nbformat": 4
 },
 "nbformat": 4,
 "nbformat_minor": 2
}
